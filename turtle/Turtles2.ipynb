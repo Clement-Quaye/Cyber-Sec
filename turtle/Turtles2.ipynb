{
 "cells": [
  {
   "attachments": {},
   "cell_type": "markdown",
   "metadata": {},
   "source": [
    "## Loops w/ Angles\n",
    "\n",
    "angles = [-90, 0, 0, -90,\n",
    "          135, 0, 0, 0, \n",
    "          90, 0, 0, 0,\n",
    "          135, -90, 0, 0,\n",
    "          90, 0, 0, 0]"
   ]
  },
  {
   "cell_type": "code",
   "execution_count": null,
   "metadata": {},
   "outputs": [],
   "source": [
    "import turtle\n",
    "\n",
    "rob = turtle.Turtle()\n",
    "\n",
    "angles = [-90, 0, 0, -90,\n",
    "          135, 0, 0, 0,\n",
    "          90, 0, 0, 0,\n",
    "          135, -90, 0, 0,\n",
    "          90, 0, 0, 0]\n",
    "\n",
    "for angle in angles:\n",
    "    rob.forward(50)\n",
    "    rob.right(angle)\n"
   ]
  },
  {
   "attachments": {},
   "cell_type": "markdown",
   "metadata": {},
   "source": [
    "### Nested Loops"
   ]
  },
  {
   "cell_type": "code",
   "execution_count": 2,
   "metadata": {},
   "outputs": [
    {
     "ename": "",
     "evalue": "",
     "output_type": "error",
     "traceback": [
      "\u001b[1;31mThe Kernel crashed while executing code in the the current cell or a previous cell. Please review the code in the cell(s) to identify a possible cause of the failure. Click <a href='https://aka.ms/vscodeJupyterKernelCrash'>here</a> for more info. View Jupyter <a href='command:jupyter.viewOutput'>log</a> for further details."
     ]
    }
   ],
   "source": [
    "import turtle\n",
    "\n",
    "\n",
    "joe = turtle.Turtle()\n",
    "kruger = turtle.Turtle()\n",
    "\n",
    "joe.color('blue')\n",
    "joe.width(1)\n",
    "\"\"\"\n",
    "#Drawing a Square with 4 corner squares\n",
    "\n",
    "for side in range(4):\n",
    "    joe.forward(80)\n",
    "    joe.left(90)\n",
    "    for side in range(4):\n",
    "        joe.forward(8)\n",
    "        joe.left(90)\n",
    "\n",
    "turtle.clear() #Clear screen\n",
    "\n",
    "#Drawing overlapping hexagons\n",
    "\n",
    "kruger.color('orange')\n",
    "kruger.width(1)\n",
    "\n",
    "for chain in range(8): #Number of chains\n",
    "    # Draw hexagon\n",
    "    for side in range(6):\n",
    "        kruger.forward(60)\n",
    "        kruger.right(60)\n",
    "\n",
    "    kruger.penup()\n",
    "    kruger.forward(20)\n",
    "    kruger.left(60)\n",
    "    kruger.pendown()\n",
    "\"\"\"\n",
    "kruger.width(2)\n",
    "kruger.color('orange')\n",
    "kruger.penup()\n",
    "kruger.back(80)\n",
    "kruger.pendown()\n",
    "\n",
    "for chain in range(8): #Number of chains\n",
    "    # Draw hexagon\n",
    "    for side in range(6):\n",
    "        kruger.forward(10)\n",
    "        kruger.right(60)\n",
    "\n",
    "    kruger.penup()\n",
    "    kruger.forward(20)\n",
    "    kruger.pendown()"
   ]
  },
  {
   "attachments": {},
   "cell_type": "markdown",
   "metadata": {},
   "source": [
    "### Nested Loops (Continued)\n",
    "\n",
    "Cluster of Starts"
   ]
  },
  {
   "cell_type": "code",
   "execution_count": null,
   "metadata": {},
   "outputs": [],
   "source": [
    "import turtle\n",
    "\n",
    "ann = turtle.Turtle()\n",
    "\n",
    "colors = ['red', 'orange', 'blue', 'black', 'grey']\n",
    "\n",
    "ann.width(4)\n",
    "\n",
    "for color in colors:\n",
    "    ann.color(color)\n",
    "    for side in range(6):\n",
    "        ann.forward(60)\n",
    "        ann.right(144)\n",
    "    ann.right(70)\n",
    "    ann.penup()\n",
    "    ann.forward(100)\n",
    "    ann.pendown()\n",
    "\n"
   ]
  },
  {
   "cell_type": "code",
   "execution_count": null,
   "metadata": {},
   "outputs": [],
   "source": []
  }
 ],
 "metadata": {
  "kernelspec": {
   "display_name": "Python 3",
   "language": "python",
   "name": "python3"
  },
  "language_info": {
   "codemirror_mode": {
    "name": "ipython",
    "version": 3
   },
   "file_extension": ".py",
   "mimetype": "text/x-python",
   "name": "python",
   "nbconvert_exporter": "python",
   "pygments_lexer": "ipython3",
   "version": "3.10.10"
  },
  "orig_nbformat": 4
 },
 "nbformat": 4,
 "nbformat_minor": 2
}
